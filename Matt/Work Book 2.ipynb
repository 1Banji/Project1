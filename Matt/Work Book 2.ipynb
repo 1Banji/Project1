{
 "cells": [
  {
   "cell_type": "markdown",
   "metadata": {},
   "source": [
    "# Part 1 -  Does Renovation Effect House Price?"
   ]
  },
  {
   "cell_type": "markdown",
   "metadata": {},
   "source": [
    "Here we will Ask 3 question:\n",
    "    1. Does the house price go down as the age of the building increase?\n",
    "    2. Does the the house price go down as time since renovation increases?\n",
    "    3. If the house was not renovated:\n",
    "           ->  Does the house price decrecre more than if it would have been renovated."
   ]
  },
  {
   "cell_type": "code",
   "execution_count": 1,
   "metadata": {},
   "outputs": [],
   "source": [
    "import math\n",
    "import numpy as np\n",
    "import pandas as pd\n",
    "import matplotlib.pyplot as plt\n",
    "import seaborn as sns\n",
    "sns.set_style(\"darkgrid\")"
   ]
  },
  {
   "cell_type": "code",
   "execution_count": 2,
   "metadata": {
    "scrolled": true
   },
   "outputs": [
    {
     "data": {
      "text/html": [
       "<div>\n",
       "<style scoped>\n",
       "    .dataframe tbody tr th:only-of-type {\n",
       "        vertical-align: middle;\n",
       "    }\n",
       "\n",
       "    .dataframe tbody tr th {\n",
       "        vertical-align: top;\n",
       "    }\n",
       "\n",
       "    .dataframe thead th {\n",
       "        text-align: right;\n",
       "    }\n",
       "</style>\n",
       "<table border=\"1\" class=\"dataframe\">\n",
       "  <thead>\n",
       "    <tr style=\"text-align: right;\">\n",
       "      <th></th>\n",
       "      <th>Unnamed: 0</th>\n",
       "      <th>id</th>\n",
       "      <th>date</th>\n",
       "      <th>price</th>\n",
       "      <th>bedrooms</th>\n",
       "      <th>bathrooms</th>\n",
       "      <th>sqft_living</th>\n",
       "      <th>sqft_lot</th>\n",
       "      <th>floors</th>\n",
       "      <th>waterfront</th>\n",
       "      <th>...</th>\n",
       "      <th>zipcode</th>\n",
       "      <th>lat</th>\n",
       "      <th>long</th>\n",
       "      <th>sqft_living15</th>\n",
       "      <th>sqft_lot15</th>\n",
       "      <th>year</th>\n",
       "      <th>month</th>\n",
       "      <th>day</th>\n",
       "      <th>month_year</th>\n",
       "      <th>price_bands</th>\n",
       "    </tr>\n",
       "  </thead>\n",
       "  <tbody>\n",
       "    <tr>\n",
       "      <td>0</td>\n",
       "      <td>0</td>\n",
       "      <td>7.129301e+09</td>\n",
       "      <td>10/13/2014</td>\n",
       "      <td>221900.0</td>\n",
       "      <td>3.0</td>\n",
       "      <td>1.00</td>\n",
       "      <td>1180.0</td>\n",
       "      <td>5650.0</td>\n",
       "      <td>1.0</td>\n",
       "      <td>0.0</td>\n",
       "      <td>...</td>\n",
       "      <td>98178.0</td>\n",
       "      <td>47.5112</td>\n",
       "      <td>-122.257</td>\n",
       "      <td>1340.0</td>\n",
       "      <td>5650.0</td>\n",
       "      <td>2014.0</td>\n",
       "      <td>10.0</td>\n",
       "      <td>13.0</td>\n",
       "      <td>13-2014</td>\n",
       "      <td>200K to 300K</td>\n",
       "    </tr>\n",
       "    <tr>\n",
       "      <td>1</td>\n",
       "      <td>1</td>\n",
       "      <td>6.414100e+09</td>\n",
       "      <td>12/9/2014</td>\n",
       "      <td>538000.0</td>\n",
       "      <td>3.0</td>\n",
       "      <td>2.25</td>\n",
       "      <td>2570.0</td>\n",
       "      <td>7242.0</td>\n",
       "      <td>2.0</td>\n",
       "      <td>0.0</td>\n",
       "      <td>...</td>\n",
       "      <td>98125.0</td>\n",
       "      <td>47.7210</td>\n",
       "      <td>-122.319</td>\n",
       "      <td>1690.0</td>\n",
       "      <td>7639.0</td>\n",
       "      <td>2014.0</td>\n",
       "      <td>12.0</td>\n",
       "      <td>9.0</td>\n",
       "      <td>9-2014</td>\n",
       "      <td>500K to 600K</td>\n",
       "    </tr>\n",
       "    <tr>\n",
       "      <td>2</td>\n",
       "      <td>2</td>\n",
       "      <td>5.631500e+09</td>\n",
       "      <td>2/25/2015</td>\n",
       "      <td>180000.0</td>\n",
       "      <td>2.0</td>\n",
       "      <td>1.00</td>\n",
       "      <td>770.0</td>\n",
       "      <td>10000.0</td>\n",
       "      <td>1.0</td>\n",
       "      <td>0.0</td>\n",
       "      <td>...</td>\n",
       "      <td>98028.0</td>\n",
       "      <td>47.7379</td>\n",
       "      <td>-122.233</td>\n",
       "      <td>2720.0</td>\n",
       "      <td>8062.0</td>\n",
       "      <td>2015.0</td>\n",
       "      <td>2.0</td>\n",
       "      <td>25.0</td>\n",
       "      <td>25-2015</td>\n",
       "      <td>100K to 200K</td>\n",
       "    </tr>\n",
       "    <tr>\n",
       "      <td>3</td>\n",
       "      <td>3</td>\n",
       "      <td>2.487201e+09</td>\n",
       "      <td>12/9/2014</td>\n",
       "      <td>604000.0</td>\n",
       "      <td>4.0</td>\n",
       "      <td>3.00</td>\n",
       "      <td>1960.0</td>\n",
       "      <td>5000.0</td>\n",
       "      <td>1.0</td>\n",
       "      <td>0.0</td>\n",
       "      <td>...</td>\n",
       "      <td>98136.0</td>\n",
       "      <td>47.5208</td>\n",
       "      <td>-122.393</td>\n",
       "      <td>1360.0</td>\n",
       "      <td>5000.0</td>\n",
       "      <td>2014.0</td>\n",
       "      <td>12.0</td>\n",
       "      <td>9.0</td>\n",
       "      <td>9-2014</td>\n",
       "      <td>600K to 700K</td>\n",
       "    </tr>\n",
       "    <tr>\n",
       "      <td>4</td>\n",
       "      <td>4</td>\n",
       "      <td>1.954401e+09</td>\n",
       "      <td>2/18/2015</td>\n",
       "      <td>510000.0</td>\n",
       "      <td>3.0</td>\n",
       "      <td>2.00</td>\n",
       "      <td>1680.0</td>\n",
       "      <td>8080.0</td>\n",
       "      <td>1.0</td>\n",
       "      <td>0.0</td>\n",
       "      <td>...</td>\n",
       "      <td>98074.0</td>\n",
       "      <td>47.6168</td>\n",
       "      <td>-122.045</td>\n",
       "      <td>1800.0</td>\n",
       "      <td>7503.0</td>\n",
       "      <td>2015.0</td>\n",
       "      <td>2.0</td>\n",
       "      <td>18.0</td>\n",
       "      <td>18-2015</td>\n",
       "      <td>500K to 600K</td>\n",
       "    </tr>\n",
       "  </tbody>\n",
       "</table>\n",
       "<p>5 rows × 27 columns</p>\n",
       "</div>"
      ],
      "text/plain": [
       "   Unnamed: 0            id        date     price  bedrooms  bathrooms  \\\n",
       "0           0  7.129301e+09  10/13/2014  221900.0       3.0       1.00   \n",
       "1           1  6.414100e+09   12/9/2014  538000.0       3.0       2.25   \n",
       "2           2  5.631500e+09   2/25/2015  180000.0       2.0       1.00   \n",
       "3           3  2.487201e+09   12/9/2014  604000.0       4.0       3.00   \n",
       "4           4  1.954401e+09   2/18/2015  510000.0       3.0       2.00   \n",
       "\n",
       "   sqft_living  sqft_lot  floors  waterfront  ...  zipcode      lat     long  \\\n",
       "0       1180.0    5650.0     1.0         0.0  ...  98178.0  47.5112 -122.257   \n",
       "1       2570.0    7242.0     2.0         0.0  ...  98125.0  47.7210 -122.319   \n",
       "2        770.0   10000.0     1.0         0.0  ...  98028.0  47.7379 -122.233   \n",
       "3       1960.0    5000.0     1.0         0.0  ...  98136.0  47.5208 -122.393   \n",
       "4       1680.0    8080.0     1.0         0.0  ...  98074.0  47.6168 -122.045   \n",
       "\n",
       "   sqft_living15  sqft_lot15    year  month   day  month_year   price_bands  \n",
       "0         1340.0      5650.0  2014.0   10.0  13.0     13-2014  200K to 300K  \n",
       "1         1690.0      7639.0  2014.0   12.0   9.0      9-2014  500K to 600K  \n",
       "2         2720.0      8062.0  2015.0    2.0  25.0     25-2015  100K to 200K  \n",
       "3         1360.0      5000.0  2014.0   12.0   9.0      9-2014  600K to 700K  \n",
       "4         1800.0      7503.0  2015.0    2.0  18.0     18-2015  500K to 600K  \n",
       "\n",
       "[5 rows x 27 columns]"
      ]
     },
     "execution_count": 2,
     "metadata": {},
     "output_type": "execute_result"
    }
   ],
   "source": [
    "df = pd.read_csv('kc_house_data_clean.csv')\n",
    "df.head()"
   ]
  },
  {
   "cell_type": "markdown",
   "metadata": {},
   "source": [
    "## Add in Correlation Calculator"
   ]
  },
  {
   "cell_type": "code",
   "execution_count": 3,
   "metadata": {},
   "outputs": [],
   "source": [
    "def mean_normalize(var):\n",
    "    norm = []\n",
    "    \n",
    "    mean = sum(var)/len(var)\n",
    "    \n",
    "    for i in var:\n",
    "        norm.append(i-mean)\n",
    "    \n",
    "    return norm\n",
    "\n",
    "def dot_product(x, y):\n",
    "    prodcut = 0\n",
    "    \n",
    "    for i in range(len(x)):\n",
    "        prd = x[i]*y[i]\n",
    "        prodcut += prd\n",
    "    return prodcut\n",
    "\n",
    "def covariance(var1, var2):\n",
    "    n = len(var1)\n",
    "    x = mean_normalize(var1)\n",
    "    y = mean_normalize(var2)\n",
    "    \n",
    "    dot_product(x, y)\n",
    "    \n",
    "def correlation(var1, var2): # Calculates the \"r\" value.\n",
    "    \n",
    "    if len(var1) != len(var2):\n",
    "        return 'The lengths of both the lists should be equal.' \n",
    "    else: \n",
    "       \n",
    "        mean_norm_var1 = mean_normalize(var1)\n",
    "        mean_norm_var2 = mean_normalize(var2)\n",
    "        \n",
    "        var1_dot_var2 = dot_product(mean_norm_var1, mean_norm_var2)\n",
    "        \n",
    "        var1_squared = [i * i for i in mean_norm_var1]\n",
    "        var2_squared = [i * i for i in mean_norm_var2]\n",
    "        \n",
    "        return round(var1_dot_var2 / math.sqrt(sum(var1_squared) * sum(var2_squared)), 3)"
   ]
  },
  {
   "cell_type": "markdown",
   "metadata": {},
   "source": [
    "## Add Regrestion Line Calculator"
   ]
  },
  {
   "cell_type": "code",
   "execution_count": 4,
   "metadata": {},
   "outputs": [],
   "source": [
    "def calc_slope(xs, ys):\n",
    "\n",
    "    m = (((np.mean(xs)*np.mean(ys)) - np.mean(xs*ys)) /\n",
    "         ((np.mean(xs)**2) - np.mean(xs*xs)))\n",
    "    \n",
    "    return m\n",
    "\n",
    "def calc_intercept(xs, ys):\n",
    "\n",
    "    m = calc_slope(xs, ys)\n",
    "    c = np.mean(ys) - m*np.mean(xs)\n",
    "    \n",
    "    return c\n",
    "\n",
    "def reg_line (m, c, X):\n",
    "    \n",
    "    return [(m*x)+c for x in X]\n",
    "\n",
    "def sum_sq_err(ys_real, ys_predicted):\n",
    "\n",
    "    sse =  sum((ys_predicted - ys_real) * (ys_predicted - ys_real))\n",
    "    \n",
    "    return sse\n",
    "\n",
    "def r_squared(ys_real, ys_predicted):\n",
    "    \n",
    "    # Calculate Y_mean , squared error for regression and mean line , and calculate r-squared\n",
    "    y_mean = [np.mean(ys_real) for y in ys_real]\n",
    "\n",
    "    sq_err_reg = sum_sq_err(ys_real, ys_predicted)\n",
    "    sq_err_y_mean = sum_sq_err(ys_real, y_mean)\n",
    "    \n",
    "    # Calculate r-squared \n",
    "    r_sq =  1 - (sq_err_reg/sq_err_y_mean)\n",
    "    \n",
    "    return r_sq\n",
    "\n",
    "def reg_basic_and_plot(X, Y, title):\n",
    "    \n",
    "    m = calc_slope(X,Y)\n",
    "    c = calc_intercept(X,Y)\n",
    "    Y_pred = reg_line(m, c, X)\n",
    "    r = correlation(X,Y)\n",
    "    r_sqrd = r_squared(Y,Y_pred)\n",
    "    \n",
    "    print ('Basic Regression Diagnostics')\n",
    "    print ('----------------------------')\n",
    "    print ('Slope:', round(m, 2))\n",
    "    print ('Y-Intercept:', round(c, 2))\n",
    "    print ('Correlation:', r)\n",
    "    print ('R-Squared:', round(r_sqrd, 3))\n",
    "    print ('----------------------------')\n",
    "    print ('Model: Y =',round(m, 2),'* X +', round(c, 2))\n",
    "    \n",
    "    \n",
    "    plt.scatter(X, Y, color='#003F72', label='data')\n",
    "    plt.plot(X, Y_pred, label='regression line')\n",
    "    plt.title(title)\n",
    "    plt.legend(loc=2)\n",
    "    plt.show()\n",
    "    return None"
   ]
  },
  {
   "cell_type": "markdown",
   "metadata": {},
   "source": [
    "## Create:  \"age\" column"
   ]
  },
  {
   "cell_type": "code",
   "execution_count": 5,
   "metadata": {},
   "outputs": [],
   "source": [
    "now = 2016"
   ]
  },
  {
   "cell_type": "code",
   "execution_count": 6,
   "metadata": {},
   "outputs": [],
   "source": [
    "df['age'] = now - df['yr_built']"
   ]
  },
  {
   "cell_type": "markdown",
   "metadata": {},
   "source": [
    "## Create a column Renovated Yes/No"
   ]
  },
  {
   "cell_type": "code",
   "execution_count": 11,
   "metadata": {},
   "outputs": [],
   "source": [
    "is_renovated = df['yr_renovated']\n",
    "is_renovated.describe().apply(lambda x: format(x, 'f'))\n",
    "temp = []\n",
    "for ren in is_renovated:\n",
    "    if ren > 0:\n",
    "        temp.append(1)\n",
    "    else:\n",
    "        temp.append(0)\n",
    "        \n",
    "df['is_ren'] = temp\n",
    "        "
   ]
  },
  {
   "cell_type": "code",
   "execution_count": 12,
   "metadata": {
    "scrolled": true
   },
   "outputs": [
    {
     "data": {
      "text/plain": [
       "array([0, 1])"
      ]
     },
     "execution_count": 12,
     "metadata": {},
     "output_type": "execute_result"
    }
   ],
   "source": [
    "df['is_ren'].unique()"
   ]
  },
  {
   "cell_type": "markdown",
   "metadata": {},
   "source": [
    "## Create: age since renovation column"
   ]
  },
  {
   "cell_type": "code",
   "execution_count": 42,
   "metadata": {
    "scrolled": false
   },
   "outputs": [
    {
     "name": "stdout",
     "output_type": "stream",
     "text": [
      "0\n"
     ]
    }
   ],
   "source": [
    "print(df['yr_built'].min())"
   ]
  },
  {
   "cell_type": "markdown",
   "metadata": {},
   "source": [
    "The issue here is that there is a year built = 0. This will mess up any further calculations. Therfore it must be excluded for the analysis. However lets look at the percentage of property of essentially unknown age."
   ]
  },
  {
   "cell_type": "code",
   "execution_count": 44,
   "metadata": {},
   "outputs": [],
   "source": [
    "def percentage_zero_val(data):\n",
    "    counter = 0\n",
    "    for d in data:\n",
    "        if d == 0:\n",
    "            counter += 1\n",
    "    return round((counter/int(len(data)))*100, 3)"
   ]
  },
  {
   "cell_type": "code",
   "execution_count": 45,
   "metadata": {},
   "outputs": [
    {
     "data": {
      "text/plain": [
       "2.102"
      ]
     },
     "execution_count": 45,
     "metadata": {},
     "output_type": "execute_result"
    }
   ],
   "source": [
    "percentage_zero_val(df['yr_built'])"
   ]
  },
  {
   "cell_type": "markdown",
   "metadata": {},
   "source": [
    "Not a significant loss. Therefore modify the DataFrame to exclude properties that are of unknown age."
   ]
  },
  {
   "cell_type": "code",
   "execution_count": 47,
   "metadata": {},
   "outputs": [
    {
     "name": "stdout",
     "output_type": "stream",
     "text": [
      "(21141, 30)\n",
      "1900\n"
     ]
    },
    {
     "data": {
      "text/html": [
       "<div>\n",
       "<style scoped>\n",
       "    .dataframe tbody tr th:only-of-type {\n",
       "        vertical-align: middle;\n",
       "    }\n",
       "\n",
       "    .dataframe tbody tr th {\n",
       "        vertical-align: top;\n",
       "    }\n",
       "\n",
       "    .dataframe thead th {\n",
       "        text-align: right;\n",
       "    }\n",
       "</style>\n",
       "<table border=\"1\" class=\"dataframe\">\n",
       "  <thead>\n",
       "    <tr style=\"text-align: right;\">\n",
       "      <th></th>\n",
       "      <th>Unnamed: 0</th>\n",
       "      <th>id</th>\n",
       "      <th>date</th>\n",
       "      <th>price</th>\n",
       "      <th>bedrooms</th>\n",
       "      <th>bathrooms</th>\n",
       "      <th>sqft_living</th>\n",
       "      <th>sqft_lot</th>\n",
       "      <th>floors</th>\n",
       "      <th>waterfront</th>\n",
       "      <th>...</th>\n",
       "      <th>sqft_living15</th>\n",
       "      <th>sqft_lot15</th>\n",
       "      <th>year</th>\n",
       "      <th>month</th>\n",
       "      <th>day</th>\n",
       "      <th>month_year</th>\n",
       "      <th>price_bands</th>\n",
       "      <th>age</th>\n",
       "      <th>age_since_ren</th>\n",
       "      <th>is_ren</th>\n",
       "    </tr>\n",
       "  </thead>\n",
       "  <tbody>\n",
       "    <tr>\n",
       "      <td>0</td>\n",
       "      <td>0</td>\n",
       "      <td>7.129301e+09</td>\n",
       "      <td>10/13/2014</td>\n",
       "      <td>221900.0</td>\n",
       "      <td>3.0</td>\n",
       "      <td>1.00</td>\n",
       "      <td>1180.0</td>\n",
       "      <td>5650.0</td>\n",
       "      <td>1.0</td>\n",
       "      <td>0.0</td>\n",
       "      <td>...</td>\n",
       "      <td>1340.0</td>\n",
       "      <td>5650.0</td>\n",
       "      <td>2014.0</td>\n",
       "      <td>10.0</td>\n",
       "      <td>13.0</td>\n",
       "      <td>13-2014</td>\n",
       "      <td>200K to 300K</td>\n",
       "      <td>61</td>\n",
       "      <td>61</td>\n",
       "      <td>0</td>\n",
       "    </tr>\n",
       "    <tr>\n",
       "      <td>1</td>\n",
       "      <td>1</td>\n",
       "      <td>6.414100e+09</td>\n",
       "      <td>12/9/2014</td>\n",
       "      <td>538000.0</td>\n",
       "      <td>3.0</td>\n",
       "      <td>2.25</td>\n",
       "      <td>2570.0</td>\n",
       "      <td>7242.0</td>\n",
       "      <td>2.0</td>\n",
       "      <td>0.0</td>\n",
       "      <td>...</td>\n",
       "      <td>1690.0</td>\n",
       "      <td>7639.0</td>\n",
       "      <td>2014.0</td>\n",
       "      <td>12.0</td>\n",
       "      <td>9.0</td>\n",
       "      <td>9-2014</td>\n",
       "      <td>500K to 600K</td>\n",
       "      <td>65</td>\n",
       "      <td>25</td>\n",
       "      <td>1</td>\n",
       "    </tr>\n",
       "    <tr>\n",
       "      <td>2</td>\n",
       "      <td>2</td>\n",
       "      <td>5.631500e+09</td>\n",
       "      <td>2/25/2015</td>\n",
       "      <td>180000.0</td>\n",
       "      <td>2.0</td>\n",
       "      <td>1.00</td>\n",
       "      <td>770.0</td>\n",
       "      <td>10000.0</td>\n",
       "      <td>1.0</td>\n",
       "      <td>0.0</td>\n",
       "      <td>...</td>\n",
       "      <td>2720.0</td>\n",
       "      <td>8062.0</td>\n",
       "      <td>2015.0</td>\n",
       "      <td>2.0</td>\n",
       "      <td>25.0</td>\n",
       "      <td>25-2015</td>\n",
       "      <td>100K to 200K</td>\n",
       "      <td>83</td>\n",
       "      <td>83</td>\n",
       "      <td>0</td>\n",
       "    </tr>\n",
       "    <tr>\n",
       "      <td>3</td>\n",
       "      <td>3</td>\n",
       "      <td>2.487201e+09</td>\n",
       "      <td>12/9/2014</td>\n",
       "      <td>604000.0</td>\n",
       "      <td>4.0</td>\n",
       "      <td>3.00</td>\n",
       "      <td>1960.0</td>\n",
       "      <td>5000.0</td>\n",
       "      <td>1.0</td>\n",
       "      <td>0.0</td>\n",
       "      <td>...</td>\n",
       "      <td>1360.0</td>\n",
       "      <td>5000.0</td>\n",
       "      <td>2014.0</td>\n",
       "      <td>12.0</td>\n",
       "      <td>9.0</td>\n",
       "      <td>9-2014</td>\n",
       "      <td>600K to 700K</td>\n",
       "      <td>51</td>\n",
       "      <td>51</td>\n",
       "      <td>0</td>\n",
       "    </tr>\n",
       "    <tr>\n",
       "      <td>4</td>\n",
       "      <td>4</td>\n",
       "      <td>1.954401e+09</td>\n",
       "      <td>2/18/2015</td>\n",
       "      <td>510000.0</td>\n",
       "      <td>3.0</td>\n",
       "      <td>2.00</td>\n",
       "      <td>1680.0</td>\n",
       "      <td>8080.0</td>\n",
       "      <td>1.0</td>\n",
       "      <td>0.0</td>\n",
       "      <td>...</td>\n",
       "      <td>1800.0</td>\n",
       "      <td>7503.0</td>\n",
       "      <td>2015.0</td>\n",
       "      <td>2.0</td>\n",
       "      <td>18.0</td>\n",
       "      <td>18-2015</td>\n",
       "      <td>500K to 600K</td>\n",
       "      <td>29</td>\n",
       "      <td>29</td>\n",
       "      <td>0</td>\n",
       "    </tr>\n",
       "  </tbody>\n",
       "</table>\n",
       "<p>5 rows × 30 columns</p>\n",
       "</div>"
      ],
      "text/plain": [
       "   Unnamed: 0            id        date     price  bedrooms  bathrooms  \\\n",
       "0           0  7.129301e+09  10/13/2014  221900.0       3.0       1.00   \n",
       "1           1  6.414100e+09   12/9/2014  538000.0       3.0       2.25   \n",
       "2           2  5.631500e+09   2/25/2015  180000.0       2.0       1.00   \n",
       "3           3  2.487201e+09   12/9/2014  604000.0       4.0       3.00   \n",
       "4           4  1.954401e+09   2/18/2015  510000.0       3.0       2.00   \n",
       "\n",
       "   sqft_living  sqft_lot  floors  waterfront  ...  sqft_living15  sqft_lot15  \\\n",
       "0       1180.0    5650.0     1.0         0.0  ...         1340.0      5650.0   \n",
       "1       2570.0    7242.0     2.0         0.0  ...         1690.0      7639.0   \n",
       "2        770.0   10000.0     1.0         0.0  ...         2720.0      8062.0   \n",
       "3       1960.0    5000.0     1.0         0.0  ...         1360.0      5000.0   \n",
       "4       1680.0    8080.0     1.0         0.0  ...         1800.0      7503.0   \n",
       "\n",
       "     year  month   day  month_year   price_bands  age  age_since_ren  is_ren  \n",
       "0  2014.0   10.0  13.0     13-2014  200K to 300K   61             61       0  \n",
       "1  2014.0   12.0   9.0      9-2014  500K to 600K   65             25       1  \n",
       "2  2015.0    2.0  25.0     25-2015  100K to 200K   83             83       0  \n",
       "3  2014.0   12.0   9.0      9-2014  600K to 700K   51             51       0  \n",
       "4  2015.0    2.0  18.0     18-2015  500K to 600K   29             29       0  \n",
       "\n",
       "[5 rows x 30 columns]"
      ]
     },
     "execution_count": 47,
     "metadata": {},
     "output_type": "execute_result"
    }
   ],
   "source": [
    "df = df.loc[df['yr_built'] > 0]\n",
    "print(df.shape)\n",
    "print(df['yr_built'].min())\n",
    "df.head()"
   ]
  },
  {
   "cell_type": "code",
   "execution_count": 36,
   "metadata": {},
   "outputs": [],
   "source": [
    "temp_age_since_ren = df['yr_renovated']\n",
    "temp = []\n",
    "i = 0\n",
    "for val in temp_age_since_ren:\n",
    "    if val > 0:\n",
    "        val = now -  df['yr_renovated'][i]\n",
    "        temp.append(val)\n",
    "        i += 1\n",
    "    else:\n",
    "        val = now - df['yr_built'][i]\n",
    "        temp.append(val)\n",
    "        i += 1\n",
    "\n",
    "df['age_since_ren'] = temp"
   ]
  },
  {
   "cell_type": "code",
   "execution_count": 37,
   "metadata": {
    "scrolled": true
   },
   "outputs": [
    {
     "data": {
      "text/plain": [
       "array([  61,   25,   83,   51,   29,   15, 2016,   53,   56,   13,   74,\n",
       "         89,   39,  116,   37,   22,  100,   47,   69,   48,   21,   31,\n",
       "         75,  101,  107,   68,   11,   87,   35,   14,  112,   20,   16,\n",
       "         32,   94,   57,   50,   63,   66,    8,   62,   43,    2,   91,\n",
       "         27,   44,   30,   60,   24,   52,   64,   55,   10,   28,   54,\n",
       "         77,   49,   41,   36,  106,   33,    6,   38,  111,   45,   71,\n",
       "         92,   26,   90,   12,   93,    9,    3,   40,   67,   17,  115,\n",
       "         23,   96,   19,   73,   76,   98,   88,   42,  105,   86,   80,\n",
       "         79,   34,  108,   85,   59,   18,  103,   95,  109,   58,    5,\n",
       "          4,  104,   99,   65,   84,   72,   70,  114,    7,   46,    1,\n",
       "         82,   78,   97,  102,  110,  113,   81])"
      ]
     },
     "execution_count": 37,
     "metadata": {},
     "output_type": "execute_result"
    }
   ],
   "source": [
    "df['age_since_ren'].unique()"
   ]
  },
  {
   "cell_type": "code",
   "execution_count": 38,
   "metadata": {
    "scrolled": false
   },
   "outputs": [
    {
     "name": "stdout",
     "output_type": "stream",
     "text": [
      "0    61\n",
      "1    65\n",
      "2    83\n",
      "3    51\n",
      "4    29\n",
      "Name: age, dtype: int64\n",
      "0    61\n",
      "1    25\n",
      "2    83\n",
      "3    51\n",
      "4    29\n",
      "Name: age_since_ren, dtype: int64\n"
     ]
    }
   ],
   "source": [
    "print(df['age'].head())\n",
    "print(df['age_since_ren'].head())"
   ]
  },
  {
   "cell_type": "code",
   "execution_count": 32,
   "metadata": {},
   "outputs": [
    {
     "name": "stdout",
     "output_type": "stream",
     "text": [
      "Basic Regression Diagnostics\n",
      "----------------------------\n",
      "Slope: -283.69\n",
      "Y-Intercept: 553140.01\n",
      "Correlation: -0.217\n",
      "R-Squared: 0.047\n",
      "----------------------------\n",
      "Model: Y = -283.69 * X + 553140.01\n"
     ]
    },
    {
     "data": {
      "image/png": "[encoded data removed]",
      "text/plain": [
       "<Figure size 432x288 with 1 Axes>"
      ]
     },
     "metadata": {
      "needs_background": "light"
     },
     "output_type": "display_data"
    }
   ],
   "source": [
    "reg_basic_and_plot(df['age_since_ren'], df['price'], \"Price over age since renovation or built.\")"
   ]
  },
  {
   "cell_type": "markdown",
   "metadata": {},
   "source": [
    "# 1a. Data Frame - Renovated House's\n",
    "\n"
   ]
  },
  {
   "cell_type": "markdown",
   "metadata": {},
   "source": [
    "Create a new DataFrame but just for houses which have been renovated"
   ]
  },
  {
   "cell_type": "code",
   "execution_count": 13,
   "metadata": {},
   "outputs": [],
   "source": [
    "df_ren = df.loc[df['yr_renovated'] != 0]"
   ]
  },
  {
   "cell_type": "code",
   "execution_count": 14,
   "metadata": {
    "scrolled": false
   },
   "outputs": [
    {
     "data": {
      "text/html": [
       "<div>\n",
       "<style scoped>\n",
       "    .dataframe tbody tr th:only-of-type {\n",
       "        vertical-align: middle;\n",
       "    }\n",
       "\n",
       "    .dataframe tbody tr th {\n",
       "        vertical-align: top;\n",
       "    }\n",
       "\n",
       "    .dataframe thead th {\n",
       "        text-align: right;\n",
       "    }\n",
       "</style>\n",
       "<table border=\"1\" class=\"dataframe\">\n",
       "  <thead>\n",
       "    <tr style=\"text-align: right;\">\n",
       "      <th></th>\n",
       "      <th>Unnamed: 0</th>\n",
       "      <th>id</th>\n",
       "      <th>date</th>\n",
       "      <th>price</th>\n",
       "      <th>bedrooms</th>\n",
       "      <th>bathrooms</th>\n",
       "      <th>sqft_living</th>\n",
       "      <th>sqft_lot</th>\n",
       "      <th>floors</th>\n",
       "      <th>waterfront</th>\n",
       "      <th>...</th>\n",
       "      <th>sqft_living15</th>\n",
       "      <th>sqft_lot15</th>\n",
       "      <th>year</th>\n",
       "      <th>month</th>\n",
       "      <th>day</th>\n",
       "      <th>month_year</th>\n",
       "      <th>price_bands</th>\n",
       "      <th>age</th>\n",
       "      <th>age_since_ren</th>\n",
       "      <th>is_ren</th>\n",
       "    </tr>\n",
       "  </thead>\n",
       "  <tbody>\n",
       "    <tr>\n",
       "      <td>1</td>\n",
       "      <td>1</td>\n",
       "      <td>6.414100e+09</td>\n",
       "      <td>12/9/2014</td>\n",
       "      <td>538000.0</td>\n",
       "      <td>3.0</td>\n",
       "      <td>2.25</td>\n",
       "      <td>2570.0</td>\n",
       "      <td>7242.0</td>\n",
       "      <td>2.0</td>\n",
       "      <td>0.0</td>\n",
       "      <td>...</td>\n",
       "      <td>1690.0</td>\n",
       "      <td>7639.0</td>\n",
       "      <td>2014.0</td>\n",
       "      <td>12.0</td>\n",
       "      <td>9.0</td>\n",
       "      <td>9-2014</td>\n",
       "      <td>500K to 600K</td>\n",
       "      <td>65</td>\n",
       "      <td>25</td>\n",
       "      <td>1</td>\n",
       "    </tr>\n",
       "    <tr>\n",
       "      <td>35</td>\n",
       "      <td>35</td>\n",
       "      <td>9.547205e+09</td>\n",
       "      <td>6/13/2014</td>\n",
       "      <td>696000.0</td>\n",
       "      <td>3.0</td>\n",
       "      <td>2.50</td>\n",
       "      <td>2300.0</td>\n",
       "      <td>3060.0</td>\n",
       "      <td>1.5</td>\n",
       "      <td>0.0</td>\n",
       "      <td>...</td>\n",
       "      <td>1590.0</td>\n",
       "      <td>3264.0</td>\n",
       "      <td>2014.0</td>\n",
       "      <td>6.0</td>\n",
       "      <td>13.0</td>\n",
       "      <td>13-2014</td>\n",
       "      <td>600K to 700K</td>\n",
       "      <td>86</td>\n",
       "      <td>14</td>\n",
       "      <td>1</td>\n",
       "    </tr>\n",
       "    <tr>\n",
       "      <td>95</td>\n",
       "      <td>95</td>\n",
       "      <td>1.483301e+09</td>\n",
       "      <td>9/8/2014</td>\n",
       "      <td>905000.0</td>\n",
       "      <td>4.0</td>\n",
       "      <td>2.50</td>\n",
       "      <td>3300.0</td>\n",
       "      <td>10250.0</td>\n",
       "      <td>1.0</td>\n",
       "      <td>0.0</td>\n",
       "      <td>...</td>\n",
       "      <td>1950.0</td>\n",
       "      <td>6045.0</td>\n",
       "      <td>2014.0</td>\n",
       "      <td>9.0</td>\n",
       "      <td>8.0</td>\n",
       "      <td>8-2014</td>\n",
       "      <td>900K to 1M</td>\n",
       "      <td>70</td>\n",
       "      <td>25</td>\n",
       "      <td>1</td>\n",
       "    </tr>\n",
       "    <tr>\n",
       "      <td>103</td>\n",
       "      <td>103</td>\n",
       "      <td>2.450000e+09</td>\n",
       "      <td>10/7/2014</td>\n",
       "      <td>1090000.0</td>\n",
       "      <td>3.0</td>\n",
       "      <td>2.50</td>\n",
       "      <td>2920.0</td>\n",
       "      <td>8113.0</td>\n",
       "      <td>2.0</td>\n",
       "      <td>0.0</td>\n",
       "      <td>...</td>\n",
       "      <td>2370.0</td>\n",
       "      <td>8113.0</td>\n",
       "      <td>2014.0</td>\n",
       "      <td>10.0</td>\n",
       "      <td>7.0</td>\n",
       "      <td>7-2014</td>\n",
       "      <td>900K to 1M</td>\n",
       "      <td>66</td>\n",
       "      <td>6</td>\n",
       "      <td>1</td>\n",
       "    </tr>\n",
       "    <tr>\n",
       "      <td>125</td>\n",
       "      <td>125</td>\n",
       "      <td>4.389201e+09</td>\n",
       "      <td>3/2/2015</td>\n",
       "      <td>1450000.0</td>\n",
       "      <td>4.0</td>\n",
       "      <td>2.75</td>\n",
       "      <td>2750.0</td>\n",
       "      <td>17789.0</td>\n",
       "      <td>1.5</td>\n",
       "      <td>0.0</td>\n",
       "      <td>...</td>\n",
       "      <td>3060.0</td>\n",
       "      <td>11275.0</td>\n",
       "      <td>2015.0</td>\n",
       "      <td>3.0</td>\n",
       "      <td>2.0</td>\n",
       "      <td>2-2015</td>\n",
       "      <td>900K to 1M</td>\n",
       "      <td>102</td>\n",
       "      <td>24</td>\n",
       "      <td>1</td>\n",
       "    </tr>\n",
       "  </tbody>\n",
       "</table>\n",
       "<p>5 rows × 30 columns</p>\n",
       "</div>"
      ],
      "text/plain": [
       "     Unnamed: 0            id       date      price  bedrooms  bathrooms  \\\n",
       "1             1  6.414100e+09  12/9/2014   538000.0       3.0       2.25   \n",
       "35           35  9.547205e+09  6/13/2014   696000.0       3.0       2.50   \n",
       "95           95  1.483301e+09   9/8/2014   905000.0       4.0       2.50   \n",
       "103         103  2.450000e+09  10/7/2014  1090000.0       3.0       2.50   \n",
       "125         125  4.389201e+09   3/2/2015  1450000.0       4.0       2.75   \n",
       "\n",
       "     sqft_living  sqft_lot  floors  waterfront  ...  sqft_living15  \\\n",
       "1         2570.0    7242.0     2.0         0.0  ...         1690.0   \n",
       "35        2300.0    3060.0     1.5         0.0  ...         1590.0   \n",
       "95        3300.0   10250.0     1.0         0.0  ...         1950.0   \n",
       "103       2920.0    8113.0     2.0         0.0  ...         2370.0   \n",
       "125       2750.0   17789.0     1.5         0.0  ...         3060.0   \n",
       "\n",
       "     sqft_lot15    year  month   day  month_year   price_bands  age  \\\n",
       "1        7639.0  2014.0   12.0   9.0      9-2014  500K to 600K   65   \n",
       "35       3264.0  2014.0    6.0  13.0     13-2014  600K to 700K   86   \n",
       "95       6045.0  2014.0    9.0   8.0      8-2014    900K to 1M   70   \n",
       "103      8113.0  2014.0   10.0   7.0      7-2014    900K to 1M   66   \n",
       "125     11275.0  2015.0    3.0   2.0      2-2015    900K to 1M  102   \n",
       "\n",
       "     age_since_ren  is_ren  \n",
       "1               25       1  \n",
       "35              14       1  \n",
       "95              25       1  \n",
       "103              6       1  \n",
       "125             24       1  \n",
       "\n",
       "[5 rows x 30 columns]"
      ]
     },
     "execution_count": 14,
     "metadata": {},
     "output_type": "execute_result"
    }
   ],
   "source": [
    "df_ren.head()"
   ]
  },
  {
   "cell_type": "code",
   "execution_count": 15,
   "metadata": {
    "scrolled": true
   },
   "outputs": [
    {
     "data": {
      "text/plain": [
       "(723, 30)"
      ]
     },
     "execution_count": 15,
     "metadata": {},
     "output_type": "execute_result"
    }
   ],
   "source": [
    "df_ren.shape"
   ]
  },
  {
   "cell_type": "code",
   "execution_count": 16,
   "metadata": {
    "scrolled": true
   },
   "outputs": [
    {
     "data": {
      "text/plain": [
       "<matplotlib.axes._subplots.AxesSubplot at 0x1033d4590>"
      ]
     },
     "execution_count": 16,
     "metadata": {},
     "output_type": "execute_result"
    },
    {
     "data": {
      "image/png": "[encoded data removed]",
      "text/plain": [
       "<Figure size 432x288 with 1 Axes>"
      ]
     },
     "metadata": {
      "needs_background": "light"
     },
     "output_type": "display_data"
    }
   ],
   "source": [
    "sns.scatterplot(data=df_ren, x=df_ren['age'], y=df_ren['price'])"
   ]
  },
  {
   "cell_type": "code",
   "execution_count": 17,
   "metadata": {},
   "outputs": [
    {
     "name": "stdout",
     "output_type": "stream",
     "text": [
      "Basic Regression Diagnostics\n",
      "----------------------------\n",
      "Slope: -2045.39\n",
      "Y-Intercept: 924176.48\n",
      "Correlation: -0.072\n",
      "R-Squared: 0.005\n",
      "----------------------------\n",
      "Model: Y = -2045.39 * X + 924176.48\n"
     ]
    },
    {
     "data": {
      "image/png": "[encoded data removed]",
      "text/plain": [
       "<Figure size 432x288 with 1 Axes>"
      ]
     },
     "metadata": {
      "needs_background": "light"
     },
     "output_type": "display_data"
    }
   ],
   "source": [
    "reg_basic_and_plot(df_ren['age'], df_ren['price'], \"How Price is effect by Age of the Property\")"
   ]
  },
  {
   "cell_type": "markdown",
   "metadata": {},
   "source": [
    "### Analysis - Renovated House's \n",
    "From the above progression it shows that for every year the price will decrease by just over $2000 . This is a substanitall amount of money but is it significant compared to houses that have not been renovated?\n",
    "\n",
    "First though as the equation is:\n",
    "\n",
    "    Price = (-2045.39 * Age) + 924176.48\n",
    "    \n",
    "So lets look at the median house age and return the price."
   ]
  },
  {
   "cell_type": "code",
   "execution_count": 18,
   "metadata": {},
   "outputs": [
    {
     "data": {
      "text/plain": [
       "74.0"
      ]
     },
     "execution_count": 18,
     "metadata": {},
     "output_type": "execute_result"
    }
   ],
   "source": [
    "df_ren['age'].median()"
   ]
  },
  {
   "cell_type": "code",
   "execution_count": 19,
   "metadata": {},
   "outputs": [
    {
     "data": {
      "text/plain": [
       "772817.62"
      ]
     },
     "execution_count": 19,
     "metadata": {},
     "output_type": "execute_result"
    }
   ],
   "source": [
    "-2045.39*(df_ren['age'].median()) + 924176.48"
   ]
  },
  {
   "cell_type": "markdown",
   "metadata": {},
   "source": [
    "Just checking that all the renovated house have year built values. As in the initial dataframe the there were yr_bulit values equal to zero."
   ]
  },
  {
   "cell_type": "code",
   "execution_count": 20,
   "metadata": {
    "scrolled": true
   },
   "outputs": [
    {
     "data": {
      "text/plain": [
       "array([1951, 1930, 1946, 1950, 1914, 1916, 1920, 1957, 1915, 1904, 1954,\n",
       "       1905, 1922, 1928, 1909, 1976, 1925, 1943, 1965, 1903, 1937, 1911,\n",
       "       1912, 1960, 1958, 1972, 1959, 1942, 1938, 1968, 1907, 1982, 1936,\n",
       "       1964, 1998, 1921, 1952, 1919, 1910, 1975, 1984, 1917, 1944, 1924,\n",
       "       1900, 1988, 1913, 1923, 1908, 1935, 1945, 1941, 1918, 1926, 1932,\n",
       "       1970, 1939, 1962, 1947, 1966, 1974, 1948, 1956, 1940, 1978, 1955,\n",
       "       1983, 1934, 1949, 1977, 1963, 1953, 1990, 1931, 1981, 1902, 1969,\n",
       "       1927, 1987, 1967, 1986, 1980, 1929, 1973, 1933, 1961, 1906, 1971,\n",
       "       1979, 1901, 1985, 2003, 1996])"
      ]
     },
     "execution_count": 20,
     "metadata": {},
     "output_type": "execute_result"
    }
   ],
   "source": [
    "df_ren['yr_built'].unique()"
   ]
  },
  {
   "cell_type": "markdown",
   "metadata": {},
   "source": [
    "# 1b. DataFrame - Non_Renovated House's\n",
    "\n",
    "There was a house that it's year built was zero so it must be excluded from this data frame."
   ]
  },
  {
   "cell_type": "code",
   "execution_count": 21,
   "metadata": {},
   "outputs": [],
   "source": [
    "df_non_ren = df.loc[(df['yr_renovated'] == 0) & (df['yr_built'] != 0)]"
   ]
  },
  {
   "cell_type": "code",
   "execution_count": 22,
   "metadata": {},
   "outputs": [
    {
     "data": {
      "text/html": [
       "<div>\n",
       "<style scoped>\n",
       "    .dataframe tbody tr th:only-of-type {\n",
       "        vertical-align: middle;\n",
       "    }\n",
       "\n",
       "    .dataframe tbody tr th {\n",
       "        vertical-align: top;\n",
       "    }\n",
       "\n",
       "    .dataframe thead th {\n",
       "        text-align: right;\n",
       "    }\n",
       "</style>\n",
       "<table border=\"1\" class=\"dataframe\">\n",
       "  <thead>\n",
       "    <tr style=\"text-align: right;\">\n",
       "      <th></th>\n",
       "      <th>Unnamed: 0</th>\n",
       "      <th>id</th>\n",
       "      <th>date</th>\n",
       "      <th>price</th>\n",
       "      <th>bedrooms</th>\n",
       "      <th>bathrooms</th>\n",
       "      <th>sqft_living</th>\n",
       "      <th>sqft_lot</th>\n",
       "      <th>floors</th>\n",
       "      <th>waterfront</th>\n",
       "      <th>...</th>\n",
       "      <th>sqft_living15</th>\n",
       "      <th>sqft_lot15</th>\n",
       "      <th>year</th>\n",
       "      <th>month</th>\n",
       "      <th>day</th>\n",
       "      <th>month_year</th>\n",
       "      <th>price_bands</th>\n",
       "      <th>age</th>\n",
       "      <th>age_since_ren</th>\n",
       "      <th>is_ren</th>\n",
       "    </tr>\n",
       "  </thead>\n",
       "  <tbody>\n",
       "    <tr>\n",
       "      <td>0</td>\n",
       "      <td>0</td>\n",
       "      <td>7.129301e+09</td>\n",
       "      <td>10/13/2014</td>\n",
       "      <td>221900.0</td>\n",
       "      <td>3.0</td>\n",
       "      <td>1.0</td>\n",
       "      <td>1180.0</td>\n",
       "      <td>5650.0</td>\n",
       "      <td>1.0</td>\n",
       "      <td>0.0</td>\n",
       "      <td>...</td>\n",
       "      <td>1340.0</td>\n",
       "      <td>5650.0</td>\n",
       "      <td>2014.0</td>\n",
       "      <td>10.0</td>\n",
       "      <td>13.0</td>\n",
       "      <td>13-2014</td>\n",
       "      <td>200K to 300K</td>\n",
       "      <td>61</td>\n",
       "      <td>61</td>\n",
       "      <td>0</td>\n",
       "    </tr>\n",
       "    <tr>\n",
       "      <td>2</td>\n",
       "      <td>2</td>\n",
       "      <td>5.631500e+09</td>\n",
       "      <td>2/25/2015</td>\n",
       "      <td>180000.0</td>\n",
       "      <td>2.0</td>\n",
       "      <td>1.0</td>\n",
       "      <td>770.0</td>\n",
       "      <td>10000.0</td>\n",
       "      <td>1.0</td>\n",
       "      <td>0.0</td>\n",
       "      <td>...</td>\n",
       "      <td>2720.0</td>\n",
       "      <td>8062.0</td>\n",
       "      <td>2015.0</td>\n",
       "      <td>2.0</td>\n",
       "      <td>25.0</td>\n",
       "      <td>25-2015</td>\n",
       "      <td>100K to 200K</td>\n",
       "      <td>83</td>\n",
       "      <td>83</td>\n",
       "      <td>0</td>\n",
       "    </tr>\n",
       "    <tr>\n",
       "      <td>3</td>\n",
       "      <td>3</td>\n",
       "      <td>2.487201e+09</td>\n",
       "      <td>12/9/2014</td>\n",
       "      <td>604000.0</td>\n",
       "      <td>4.0</td>\n",
       "      <td>3.0</td>\n",
       "      <td>1960.0</td>\n",
       "      <td>5000.0</td>\n",
       "      <td>1.0</td>\n",
       "      <td>0.0</td>\n",
       "      <td>...</td>\n",
       "      <td>1360.0</td>\n",
       "      <td>5000.0</td>\n",
       "      <td>2014.0</td>\n",
       "      <td>12.0</td>\n",
       "      <td>9.0</td>\n",
       "      <td>9-2014</td>\n",
       "      <td>600K to 700K</td>\n",
       "      <td>51</td>\n",
       "      <td>51</td>\n",
       "      <td>0</td>\n",
       "    </tr>\n",
       "    <tr>\n",
       "      <td>4</td>\n",
       "      <td>4</td>\n",
       "      <td>1.954401e+09</td>\n",
       "      <td>2/18/2015</td>\n",
       "      <td>510000.0</td>\n",
       "      <td>3.0</td>\n",
       "      <td>2.0</td>\n",
       "      <td>1680.0</td>\n",
       "      <td>8080.0</td>\n",
       "      <td>1.0</td>\n",
       "      <td>0.0</td>\n",
       "      <td>...</td>\n",
       "      <td>1800.0</td>\n",
       "      <td>7503.0</td>\n",
       "      <td>2015.0</td>\n",
       "      <td>2.0</td>\n",
       "      <td>18.0</td>\n",
       "      <td>18-2015</td>\n",
       "      <td>500K to 600K</td>\n",
       "      <td>29</td>\n",
       "      <td>29</td>\n",
       "      <td>0</td>\n",
       "    </tr>\n",
       "    <tr>\n",
       "      <td>5</td>\n",
       "      <td>5</td>\n",
       "      <td>7.237550e+09</td>\n",
       "      <td>5/12/2014</td>\n",
       "      <td>1230000.0</td>\n",
       "      <td>4.0</td>\n",
       "      <td>4.5</td>\n",
       "      <td>5420.0</td>\n",
       "      <td>101930.0</td>\n",
       "      <td>1.0</td>\n",
       "      <td>0.0</td>\n",
       "      <td>...</td>\n",
       "      <td>4760.0</td>\n",
       "      <td>101930.0</td>\n",
       "      <td>2014.0</td>\n",
       "      <td>5.0</td>\n",
       "      <td>12.0</td>\n",
       "      <td>12-2014</td>\n",
       "      <td>900K to 1M</td>\n",
       "      <td>15</td>\n",
       "      <td>15</td>\n",
       "      <td>0</td>\n",
       "    </tr>\n",
       "  </tbody>\n",
       "</table>\n",
       "<p>5 rows × 30 columns</p>\n",
       "</div>"
      ],
      "text/plain": [
       "   Unnamed: 0            id        date      price  bedrooms  bathrooms  \\\n",
       "0           0  7.129301e+09  10/13/2014   221900.0       3.0        1.0   \n",
       "2           2  5.631500e+09   2/25/2015   180000.0       2.0        1.0   \n",
       "3           3  2.487201e+09   12/9/2014   604000.0       4.0        3.0   \n",
       "4           4  1.954401e+09   2/18/2015   510000.0       3.0        2.0   \n",
       "5           5  7.237550e+09   5/12/2014  1230000.0       4.0        4.5   \n",
       "\n",
       "   sqft_living  sqft_lot  floors  waterfront  ...  sqft_living15  sqft_lot15  \\\n",
       "0       1180.0    5650.0     1.0         0.0  ...         1340.0      5650.0   \n",
       "2        770.0   10000.0     1.0         0.0  ...         2720.0      8062.0   \n",
       "3       1960.0    5000.0     1.0         0.0  ...         1360.0      5000.0   \n",
       "4       1680.0    8080.0     1.0         0.0  ...         1800.0      7503.0   \n",
       "5       5420.0  101930.0     1.0         0.0  ...         4760.0    101930.0   \n",
       "\n",
       "     year  month   day  month_year   price_bands  age  age_since_ren  is_ren  \n",
       "0  2014.0   10.0  13.0     13-2014  200K to 300K   61             61       0  \n",
       "2  2015.0    2.0  25.0     25-2015  100K to 200K   83             83       0  \n",
       "3  2014.0   12.0   9.0      9-2014  600K to 700K   51             51       0  \n",
       "4  2015.0    2.0  18.0     18-2015  500K to 600K   29             29       0  \n",
       "5  2014.0    5.0  12.0     12-2014    900K to 1M   15             15       0  \n",
       "\n",
       "[5 rows x 30 columns]"
      ]
     },
     "execution_count": 22,
     "metadata": {},
     "output_type": "execute_result"
    }
   ],
   "source": [
    "df_non_ren.head()"
   ]
  },
  {
   "cell_type": "code",
   "execution_count": 23,
   "metadata": {},
   "outputs": [
    {
     "data": {
      "text/plain": [
       "<matplotlib.axes._subplots.AxesSubplot at 0x1a16d585d0>"
      ]
     },
     "execution_count": 23,
     "metadata": {},
     "output_type": "execute_result"
    },
    {
     "data": {
      "image/png": "[encoded data removed]",
      "text/plain": [
       "<Figure size 432x288 with 1 Axes>"
      ]
     },
     "metadata": {
      "needs_background": "light"
     },
     "output_type": "display_data"
    }
   ],
   "source": [
    "sns.scatterplot(data=df_non_ren, x=df_non_ren['age'], y=df_non_ren['price'])"
   ]
  },
  {
   "cell_type": "code",
   "execution_count": 24,
   "metadata": {
    "scrolled": false
   },
   "outputs": [
    {
     "name": "stdout",
     "output_type": "stream",
     "text": [
      "Basic Regression Diagnostics\n",
      "----------------------------\n",
      "Slope: -996.65\n",
      "Y-Intercept: 576181.8\n",
      "Correlation: -0.082\n",
      "R-Squared: 0.007\n",
      "----------------------------\n",
      "Model: Y = -996.65 * X + 576181.8\n"
     ]
    },
    {
     "data": {
      "image/png": "[encoded data removed]",
      "text/plain": [
       "<Figure size 432x288 with 1 Axes>"
      ]
     },
     "metadata": {
      "needs_background": "light"
     },
     "output_type": "display_data"
    }
   ],
   "source": [
    "reg_basic_and_plot(df_non_ren['age'], df_non_ren['price'], \"How Price is effect by Age of the Property, If a Renovation has been done\")"
   ]
  },
  {
   "cell_type": "markdown",
   "metadata": {},
   "source": [
    "### Analysis - If house not Renovated:\n",
    "\n",
    "I this case the house price does decrease, but only by $996.65 per year. \n",
    "\n",
    "Benifit of not renovating: re"
   ]
  },
  {
   "cell_type": "markdown",
   "metadata": {},
   "source": [
    "Just checking that all the non-renovated house have year built values. As in the initial dataframe the there were yr_bulit values equal to zero."
   ]
  },
  {
   "cell_type": "code",
   "execution_count": 31,
   "metadata": {},
   "outputs": [],
   "source": [
    "# sorted(df_non_ren['yr_built'].unique())"
   ]
  },
  {
   "cell_type": "markdown",
   "metadata": {},
   "source": [
    "# Part 2 - Breaking the Houses Clasifications \n",
    "\n",
    "In this section we will be breaking down the houses into further catagorise and comapreing the non-renovated top the renovated in diffent metrics:\n",
    "\n",
    "    2a. Price Bands\n",
    "    2b. Number of Bedrooms\n",
    "    2c. Number of Bathrooms\n",
    "    2d. sqft_lot\n",
    "    2e. sqft_living\n",
    "    2f. Building Condition\n",
    "    2g. Building Grade"
   ]
  },
  {
   "cell_type": "markdown",
   "metadata": {},
   "source": [
    "### Create: DataFrame the excludes houses that have unknow build date"
   ]
  },
  {
   "cell_type": "code",
   "execution_count": 26,
   "metadata": {},
   "outputs": [],
   "source": [
    "df_known_build_date = df.loc[(df['yr_built'] != 0)]"
   ]
  },
  {
   "cell_type": "markdown",
   "metadata": {},
   "source": [
    "### 2a. Price Band - Renovated"
   ]
  },
  {
   "cell_type": "code",
   "execution_count": 27,
   "metadata": {
    "scrolled": true
   },
   "outputs": [
    {
     "data": {
      "text/plain": [
       "<matplotlib.axes._subplots.AxesSubplot at 0x1a181bb0d0>"
      ]
     },
     "execution_count": 27,
     "metadata": {},
     "output_type": "execute_result"
    },
    {
     "data": {
      "image/png": "[encoded data removed]",
      "text/plain": [
       "<Figure size 432x288 with 1 Axes>"
      ]
     },
     "metadata": {
      "needs_background": "light"
     },
     "output_type": "display_data"
    }
   ],
   "source": [
    "sns.barplot(y=sorted(df_ren['price_bands']), x=df_ren['age']) # title=\"Price Bands to age of property\""
   ]
  },
  {
   "cell_type": "code",
   "execution_count": 28,
   "metadata": {},
   "outputs": [],
   "source": [
    "# df_ren.set_index(df_ren['price_bands'])"
   ]
  },
  {
   "cell_type": "code",
   "execution_count": 29,
   "metadata": {
    "scrolled": false
   },
   "outputs": [
    {
     "data": {
      "text/plain": [
       "<seaborn.axisgrid.FacetGrid at 0x1a182d4110>"
      ]
     },
     "execution_count": 29,
     "metadata": {},
     "output_type": "execute_result"
    },
    {
     "data": {
      "image/png": "[encoded data removed]",
      "text/plain": [
       "<Figure size 401.625x360 with 1 Axes>"
      ]
     },
     "metadata": {
      "needs_background": "light"
     },
     "output_type": "display_data"
    }
   ],
   "source": [
    "sns.lmplot(data=df_known_build_date, x=\"age\", y=\"price\", hue=\"is_ren\")"
   ]
  },
  {
   "cell_type": "code",
   "execution_count": null,
   "metadata": {},
   "outputs": [],
   "source": []
  },
  {
   "cell_type": "markdown",
   "metadata": {},
   "source": [
    "## Renovated - Bedrooms"
   ]
  },
  {
   "cell_type": "code",
   "execution_count": 30,
   "metadata": {},
   "outputs": [
    {
     "data": {
      "text/plain": [
       "<matplotlib.axes._subplots.AxesSubplot at 0x1a1823a590>"
      ]
     },
     "execution_count": 30,
     "metadata": {},
     "output_type": "execute_result"
    },
    {
     "data": {
      "image/png": "[encoded data removed]",
      "text/plain": [
       "<Figure size 432x288 with 1 Axes>"
      ]
     },
     "metadata": {
      "needs_background": "light"
     },
     "output_type": "display_data"
    }
   ],
   "source": [
    "sns.barplot(x=df_ren['bedrooms'], y=df_ren['price'])"
   ]
  },
  {
   "cell_type": "code",
   "execution_count": null,
   "metadata": {},
   "outputs": [],
   "source": []
  }
 ],
 "metadata": {
  "kernelspec": {
   "display_name": "Python 3",
   "language": "python",
   "name": "python3"
  },
  "language_info": {
   "codemirror_mode": {
    "name": "ipython",
    "version": 3
   },
   "file_extension": ".py",
   "mimetype": "text/x-python",
   "name": "python",
   "nbconvert_exporter": "python",
   "pygments_lexer": "ipython3",
   "version": "3.7.4"
  }
 },
 "nbformat": 4,
 "nbformat_minor": 2
}
